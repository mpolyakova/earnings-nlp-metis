{
 "cells": [
  {
   "cell_type": "markdown",
   "metadata": {
    "id": "6GqfZuo3PeAw"
   },
   "source": [
    "# Chapter 4 - Scattertext\n",
    "\n",
    "## Instructions\n",
    "\n",
    "- Run the cells with \"assert\" statements to see if your answer's output matches what the output should be. If it runs without error, your answer matches! If your output is different, you'll get a hint.\n",
    "\n",
    "Uncomment and run the line of code below to install scattertext if you have not already done so."
   ]
  },
  {
   "cell_type": "code",
   "execution_count": 1,
   "metadata": {
    "colab": {
     "base_uri": "https://localhost:8080/"
    },
    "id": "EM9mAj9HQNP7",
    "outputId": "6d056e18-d67d-45e7-cc37-3cdbabb2e4ae"
   },
   "outputs": [],
   "source": [
    "#!pip install scattertext"
   ]
  },
  {
   "cell_type": "code",
   "execution_count": 2,
   "metadata": {
    "id": "c34ngwaIPa4H"
   },
   "outputs": [],
   "source": [
    "import pandas as pd\n",
    "import scattertext as st"
   ]
  },
  {
   "cell_type": "markdown",
   "metadata": {
    "id": "oTkRhu1QPqhn"
   },
   "source": [
    "Please perform calculations on this dataframe called `df` for the exercises in this chapter.  These data include [reviews for AirBnB properties](https://www.kaggle.com/broach/denverairbnb?select=reviews.csv) in the Denver, Colorado, USA, area."
   ]
  },
  {
   "cell_type": "code",
   "execution_count": 3,
   "metadata": {
    "id": "30l_kQGNPrGy"
   },
   "outputs": [],
   "source": [
    "df = pd.read_csv('https://github.com/kimfetti/Projects/blob/master/Etc/airbnb_reviews10K.csv?raw=True')"
   ]
  },
  {
   "cell_type": "code",
   "execution_count": 4,
   "metadata": {
    "id": "4P6IZ_WuRBv8"
   },
   "outputs": [],
   "source": [
    "df['date'] = pd.to_datetime(df.date)"
   ]
  },
  {
   "cell_type": "code",
   "execution_count": 5,
   "metadata": {
    "id": "d5JgpYJHRfDa"
   },
   "outputs": [],
   "source": [
    "df['summer'] = df.date.apply(lambda x: x.month in [6, 7, 8]).map({True: \"Summer\", False: \"Not Summer\"})"
   ]
  },
  {
   "cell_type": "code",
   "execution_count": 6,
   "metadata": {
    "colab": {
     "base_uri": "https://localhost:8080/",
     "height": 198
    },
    "id": "yNqsnc0YRqZf",
    "outputId": "f92837ae-5c07-47f6-dff1-349bfb010631"
   },
   "outputs": [
    {
     "data": {
      "text/html": [
       "<div>\n",
       "<style scoped>\n",
       "    .dataframe tbody tr th:only-of-type {\n",
       "        vertical-align: middle;\n",
       "    }\n",
       "\n",
       "    .dataframe tbody tr th {\n",
       "        vertical-align: top;\n",
       "    }\n",
       "\n",
       "    .dataframe thead th {\n",
       "        text-align: right;\n",
       "    }\n",
       "</style>\n",
       "<table border=\"1\" class=\"dataframe\">\n",
       "  <thead>\n",
       "    <tr style=\"text-align: right;\">\n",
       "      <th></th>\n",
       "      <th>listing_id</th>\n",
       "      <th>id</th>\n",
       "      <th>date</th>\n",
       "      <th>reviewer_id</th>\n",
       "      <th>reviewer_name</th>\n",
       "      <th>comments</th>\n",
       "      <th>summer</th>\n",
       "    </tr>\n",
       "  </thead>\n",
       "  <tbody>\n",
       "    <tr>\n",
       "      <th>937</th>\n",
       "      <td>15330451</td>\n",
       "      <td>512737596</td>\n",
       "      <td>2019-08-18</td>\n",
       "      <td>3023810</td>\n",
       "      <td>Andi</td>\n",
       "      <td>Tim's house is gorgeous and perfect for our gr...</td>\n",
       "      <td>Summer</td>\n",
       "    </tr>\n",
       "    <tr>\n",
       "      <th>9355</th>\n",
       "      <td>28881584</td>\n",
       "      <td>553656965</td>\n",
       "      <td>2019-10-24</td>\n",
       "      <td>138779484</td>\n",
       "      <td>Alex</td>\n",
       "      <td>Great location, very clean, cozy, and reasonab...</td>\n",
       "      <td>Not Summer</td>\n",
       "    </tr>\n",
       "    <tr>\n",
       "      <th>2293</th>\n",
       "      <td>9496966</td>\n",
       "      <td>484905930</td>\n",
       "      <td>2019-07-09</td>\n",
       "      <td>183541615</td>\n",
       "      <td>Kate</td>\n",
       "      <td>Kinga's place was spacious with great views of...</td>\n",
       "      <td>Summer</td>\n",
       "    </tr>\n",
       "    <tr>\n",
       "      <th>192</th>\n",
       "      <td>30007294</td>\n",
       "      <td>548473063</td>\n",
       "      <td>2019-10-17</td>\n",
       "      <td>259657102</td>\n",
       "      <td>Joann</td>\n",
       "      <td>It was a great experience</td>\n",
       "      <td>Not Summer</td>\n",
       "    </tr>\n",
       "    <tr>\n",
       "      <th>8675</th>\n",
       "      <td>13526515</td>\n",
       "      <td>488214568</td>\n",
       "      <td>2019-07-14</td>\n",
       "      <td>55695037</td>\n",
       "      <td>James</td>\n",
       "      <td>Great location, easy check in and checkout, an...</td>\n",
       "      <td>Summer</td>\n",
       "    </tr>\n",
       "  </tbody>\n",
       "</table>\n",
       "</div>"
      ],
      "text/plain": [
       "      listing_id         id       date  reviewer_id reviewer_name  \\\n",
       "937     15330451  512737596 2019-08-18      3023810          Andi   \n",
       "9355    28881584  553656965 2019-10-24    138779484          Alex   \n",
       "2293     9496966  484905930 2019-07-09    183541615          Kate   \n",
       "192     30007294  548473063 2019-10-17    259657102         Joann   \n",
       "8675    13526515  488214568 2019-07-14     55695037         James   \n",
       "\n",
       "                                               comments      summer  \n",
       "937   Tim's house is gorgeous and perfect for our gr...      Summer  \n",
       "9355  Great location, very clean, cozy, and reasonab...  Not Summer  \n",
       "2293  Kinga's place was spacious with great views of...      Summer  \n",
       "192                           It was a great experience  Not Summer  \n",
       "8675  Great location, easy check in and checkout, an...      Summer  "
      ]
     },
     "execution_count": 6,
     "metadata": {},
     "output_type": "execute_result"
    }
   ],
   "source": [
    "df.sample(5, random_state=10)"
   ]
  },
  {
   "cell_type": "markdown",
   "metadata": {
    "id": "87D2PGrTR7bI"
   },
   "source": [
    "# Exercise 1\n",
    "\n",
    "In the code above, we converted the \"date\" column to be datetime values and then created a column called \"summer\" that contains labels: \"Summer\" if the review was left during the summer months and \"Not Summer\" if not.\n",
    "\n",
    "Let's use scattertext to see if summertime reviews talk about different things than other reviewers.\n",
    "\n",
    "## Part 1 - Build the Corpus\n",
    "\n",
    "We've already loaded in scattertext and a pandas dataframe for you, so the next step is building our scattertext corpus.\n",
    "\n",
    "We have provided you some starter code below.  Fill in the name strings of the category column and the text column.  "
   ]
  },
  {
   "cell_type": "code",
   "execution_count": 7,
   "metadata": {
    "id": "_N_Q2T_ASr4a"
   },
   "outputs": [],
   "source": [
    "## the starter code should look like this, but uncommented:\n",
    "\n",
    "# corpus = st.CorpusFromPandas(\n",
    "#     df,\n",
    "#     category_col =  , ## YOUR ANSWER HERE\n",
    "#     text_col = ,  ### YOUR ANSWER HERE\n",
    "#     nlp=st.whitespace_nlp_with_sentences\n",
    "# ).build()"
   ]
  },
  {
   "cell_type": "code",
   "execution_count": 8,
   "metadata": {
    "id": "l1w0jMOeRzun"
   },
   "outputs": [],
   "source": [
    "### BEGIN SOLUTION\n",
    "\n",
    "corpus = st.CorpusFromPandas(\n",
    "    df,\n",
    "    category_col = 'summer',\n",
    "    text_col = 'comments',\n",
    "    nlp=st.whitespace_nlp_with_sentences\n",
    ").build()\n",
    "\n",
    "### END SOLUTION"
   ]
  },
  {
   "cell_type": "code",
   "execution_count": 9,
   "metadata": {
    "id": "qT0btNl-WKyJ"
   },
   "outputs": [],
   "source": [
    "### CHECK YOUR OUTPUT WITH THE ANSWER\n",
    "assert type(corpus) == st.CorpusDF, \"Be sure to create your corpus from the dataframe provided.  It should be a scattertext CorpusDF object.\"\n",
    "assert corpus.get_num_docs() == len(df), \"Your corpus should be constructed from df and should have the same number of documents as df.\"\n",
    "assert corpus.get_categories() == ['Not Summer', 'Summer'], \"The categories of your corpus should be 'Not Summer' and 'Summer'.\""
   ]
  },
  {
   "cell_type": "markdown",
   "metadata": {
    "id": "kCdxaXW0UGRe"
   },
   "source": [
    "## Part 2 - Create the HTML\n",
    "\n",
    "And now we will create our scattertext HTML.  We have provided you with more starter code below.  You will need to fill in:\n",
    "\n",
    "1. category: This is the string of the category that you would like to explore from the category column.  Since we are exploring the \"summer\" column, category will either be \"Summer\" or \"Not Summer\" -- your choice.  (By the way, if we had three categories, scattertext would group any other categories together.  It's basically this category vs. NOT this category.)\n",
    "\n",
    "2. category_name:  This is another string.  What would you like to name your category axis?\n",
    "\n",
    "3. not_category_name:  This is another string.  What would you like to name the other axis on your scattertext plot?  "
   ]
  },
  {
   "cell_type": "code",
   "execution_count": 10,
   "metadata": {
    "id": "JSlHANGzUB2-"
   },
   "outputs": [],
   "source": [
    "# ### the starter code should look like this, but uncommented:\n",
    "\n",
    "# html = st.produce_scattertext_explorer(\n",
    "#         corpus,\n",
    "#         category= , ### YOUR ANSWER HERE\n",
    "#         category_name=  , ### YOUR ANSWER HERE\n",
    "#         not_category_name= , ### YOUR ANSWER HERE\n",
    "#         minimum_term_frequency=10,\n",
    "#         pmi_threshold_coefficient=5,\n",
    "#         width_in_pixels=1000,\n",
    "#         metadata=df['reviewer_name'],\n",
    "#         )"
   ]
  },
  {
   "cell_type": "code",
   "execution_count": 11,
   "metadata": {
    "id": "0Wf1JGzJUYaB"
   },
   "outputs": [],
   "source": [
    "### BEGIN SOLUTION\n",
    "\n",
    "html = st.produce_scattertext_explorer(\n",
    "        corpus,\n",
    "        category=\"Summer\",\n",
    "        category_name='Summer',\n",
    "        not_category_name='Not Summer',\n",
    "        minimum_term_frequency=10,\n",
    "        pmi_threshold_coefficient=5,\n",
    "        width_in_pixels=1000,\n",
    "        metadata=df['reviewer_name'],\n",
    "        )\n",
    "\n",
    "### END SOLUTION"
   ]
  },
  {
   "cell_type": "markdown",
   "metadata": {
    "id": "YpfMOtn9Yzsm"
   },
   "source": [
    "## Part 3 - Explore the HTML\n",
    "\n",
    "Now it's time to save your HTML and download this file to your computer.  Execute the cells below which will create and download an HTML file called \"airbnb_reviews.html\" to the current directory you are working from.  "
   ]
  },
  {
   "cell_type": "code",
   "execution_count": 12,
   "metadata": {
    "id": "_-EBtxfKUm_r"
   },
   "outputs": [],
   "source": [
    "open('airbnb_reviews.html', 'wb').write(html.encode('utf-8'));"
   ]
  },
  {
   "cell_type": "markdown",
   "metadata": {
    "id": "0oeOC-4LZGcF"
   },
   "source": [
    "That's it!  You just created your first scattertext.  Now it's time to explore.  Open the file you just downloaded -- a simple double click should do the trick.  Give the file a few minutes to load into your browser and then answer the following questions:\n",
    "\n",
    "1.  What is the top characteristic word for the \"Summer\" group (the first word in the summer list)?  Does this surprise you?\n",
    "\n",
    "2. Now click on this most popular word and scroll down.  You should be able to see specific examples of this \"word\" used in the AirBnB reviews.\n",
    "\n",
    "3. There were about half as many \"Summer\" reviews than \"Not Summer\" reviews.  How does scattertext seem to handle this?\n",
    "\n",
    "4. Scattertext does allow word phrases to be considered terms.  Can you find at least one two-word term?  Any theories on what two-word pairs are considered terms and get their own scatter point?\n",
    "\n",
    "5. What is the top word that is characteristic of this corpus but not as popular in a standard Engligh corpus?  Does this surprise you?\n",
    "\n",
    "6. Do more of the \"Summer\" or \"Not Summer\" reviews mention \"snow\"?  If you can't find this term, you can search for it in the search bar that says \"Search this chart\".\n",
    "\n",
    "7. We passed `df[\"reviewer_name\"]` to the metadata argument of `.produce_scattertext_explorer()`.  Where does this information show up on the scattertext plot?\n",
    "\n",
    "8.  What other interesting insights can you find?\n",
    "\n"
   ]
  },
  {
   "cell_type": "code",
   "execution_count": null,
   "metadata": {
    "id": "RzjB_9q-VKVF"
   },
   "outputs": [],
   "source": []
  }
 ],
 "metadata": {
  "colab": {
   "collapsed_sections": [],
   "name": "fancynlp-chapter4-exercises.ipynb",
   "provenance": []
  },
  "kernelspec": {
   "display_name": "Python 3 (ipykernel)",
   "language": "python",
   "name": "python3"
  },
  "language_info": {
   "codemirror_mode": {
    "name": "ipython",
    "version": 3
   },
   "file_extension": ".py",
   "mimetype": "text/x-python",
   "name": "python",
   "nbconvert_exporter": "python",
   "pygments_lexer": "ipython3",
   "version": "3.8.12"
  }
 },
 "nbformat": 4,
 "nbformat_minor": 1
}
