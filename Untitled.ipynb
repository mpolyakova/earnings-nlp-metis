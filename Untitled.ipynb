{
 "cells": [
  {
   "cell_type": "markdown",
   "id": "24d88ef9",
   "metadata": {},
   "source": [
    "# What My Goals Are\n",
    "\n",
    "## Input Data\n",
    "\n",
    "While the scraper is running, I want to find what my goals are for this project. Since I've stuck to using Earnings Calls, the similarity ratings arent all that interesting - we can find details about the companies and classify them without using NLP at all - they're literally categorized into sectors. \n",
    "\n",
    "### Analyst Opinions\n",
    "\n",
    "These are also not analyst opinions. In the future, I would absolutely want to include analyst opinions, however, for V1 of this project it doesnt make sense. To get a good overview, I'd want multiple different opinions from multiple different sources - I have a list to look at, but these are different websites, and we'd need a different scraper for each one. So thats stressful:) Additionally, sentiments would be the analysts opinion of the company rather than what the earnings said - so it would be more for processing the analysts \n",
    "\n",
    "## My Problems\n",
    "\n",
    "### The calls themselves \n",
    "I've tried listening to calls - they're so boring. Everyone tries very hard to be very polite and slippery - \"Im not saying anything and Im sure you have a good explanation and its probably a good thing, but it seems youre reporting a lost of billions of dollars, could you please clarify how thats a good thing\" \n",
    "\n",
    "Theyre exhausting to read and exhausting to listen to. Summarize, please.\n",
    "\n",
    "### Big Trends? \n",
    "There are a lot of companies. I know whats happening with the big tech ones because I've worked near them - but what about the industry? \n",
    "Can we find common topics between companies that aren't part of the company definitions - how companies are approaching offices, outsourcing, etc. \n",
    "\n",
    "## Steps \n",
    "\n",
    "### Topic Analysis \n",
    "\n",
    "### Summarizing \n",
    "Not easily covered. \n"
   ]
  },
  {
   "cell_type": "code",
   "execution_count": null,
   "id": "ac0487ee",
   "metadata": {},
   "outputs": [],
   "source": [
    "import requests\n",
    "from bs4 import BeautifulSoup,SoupStrainer\n",
    "import re\n",
    "import os \n",
    "import sys\n",
    "import time\n",
    "import pandas as pd\n",
    "\n",
    "from IPython.core.debugger import Pdb\n",
    "from random import Random, randrange\n",
    "\n",
    "from sklearn.feature_extraction.text import CountVectorizer\n",
    "from nltk.chunk import ne_chunk\n",
    "from nltk.tag import pos_tag\n",
    "from nltk.tokenize import word_tokenize\n",
    "from pysentiment2 import LM "
   ]
  },
  {
   "cell_type": "code",
   "execution_count": null,
   "id": "5f138157",
   "metadata": {},
   "outputs": [],
   "source": [
    "#open text file in read mode\n",
    "text_file = open(\"D:/data.txt\", \"r\")\n",
    " \n",
    "#read whole file to a string\n",
    "data = text_file.read()\n",
    " \n",
    "#close file\n",
    "text_file.close()\n",
    " \n",
    "print(data)"
   ]
  }
 ],
 "metadata": {
  "kernelspec": {
   "display_name": "Python [conda env:metis] *",
   "language": "python",
   "name": "conda-env-metis-py"
  },
  "language_info": {
   "codemirror_mode": {
    "name": "ipython",
    "version": 3
   },
   "file_extension": ".py",
   "mimetype": "text/x-python",
   "name": "python",
   "nbconvert_exporter": "python",
   "pygments_lexer": "ipython3",
   "version": "3.8.12"
  }
 },
 "nbformat": 4,
 "nbformat_minor": 5
}
